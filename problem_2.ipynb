{
  "nbformat": 4,
  "nbformat_minor": 0,
  "metadata": {
    "colab": {
      "provenance": []
    },
    "kernelspec": {
      "name": "python3",
      "display_name": "Python 3"
    },
    "language_info": {
      "name": "python"
    }
  },
  "cells": [
    {
      "cell_type": "code",
      "execution_count": null,
      "metadata": {
        "id": "EnJIYU-T2pFQ"
      },
      "outputs": [],
      "source": [
        "from flask import Flask, request, jsonify"
      ]
    },
    {
      "cell_type": "code",
      "source": [
        "app = Flask(\"samrudh\")"
      ],
      "metadata": {
        "id": "GzAoLJkl2rd-"
      },
      "execution_count": null,
      "outputs": []
    },
    {
      "cell_type": "code",
      "source": [
        "@app.route('/generate_marketing_content', methods=['POST'])\n",
        "def generate_content():\n",
        "    request_data = request.get_json()\n",
        "    format_type = request_data.get('format')\n",
        "    topic = request_data.get('topic')\n",
        "\n",
        "    if format_type == 'linkedin post':\n",
        "        content = generate_linkedin_post(topic)\n",
        "    # Add more format types here as needed\n",
        "\n",
        "    return jsonify({'text': content})"
      ],
      "metadata": {
        "id": "TzhP_cm72uNL"
      },
      "execution_count": null,
      "outputs": []
    },
    {
      "cell_type": "code",
      "source": [
        "def generate_linkedin_post(topic):\n",
        "    # Generate content based on the topic\n",
        "    content = f\"Excited to share insights on {topic}! 🚀 With its innovative capabilities, {topic} is revolutionising various industries, from creative arts to healthcare. Its potential to generate realistic images, text, and even music is reshaping the way we create and interact with technology. Let's explore the endless possibilities and opportunities this cutting-edge technology offers. #{topic.replace(' ', '')} #Innovation #TechRevolution 🤖💡\"\n",
        "    return content"
      ],
      "metadata": {
        "id": "Z2CmTSRz2yi6"
      },
      "execution_count": null,
      "outputs": []
    },
    {
      "cell_type": "code",
      "source": [
        "if __name__ == '__main__':\n",
        "    app.run(debug=True)"
      ],
      "metadata": {
        "id": "HLMG5g2n21sy"
      },
      "execution_count": null,
      "outputs": []
    }
  ]
}