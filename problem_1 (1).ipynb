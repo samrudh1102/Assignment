{
  "cells": [
    {
      "cell_type": "markdown",
      "metadata": {
        "id": "AJyXmXeCD85y"
      },
      "source": [
        "## **Webpage Question Answering**"
      ]
    },
    {
      "cell_type": "code",
      "execution_count": null,
      "metadata": {
        "id": "e9jchUnn8Src"
      },
      "outputs": [],
      "source": [
        "from flask import Flask, request, jsonify\n",
        "from langchain.langchain import Chain\n",
        "import openai\n",
        "from bs4 import BeautifulSoup\n",
        "import requests"
      ]
    },
    {
      "cell_type": "code",
      "execution_count": null,
      "metadata": {
        "id": "VXc7f-HX8w7a"
      },
      "outputs": [],
      "source": [
        "app = Flask(\"samrudh\")"
      ]
    },
    {
      "cell_type": "code",
      "execution_count": null,
      "metadata": {
        "id": "7HpGVQcc9AB5"
      },
      "outputs": [],
      "source": [
        "openai.api_key = ' ' # should give the API key"
      ]
    },
    {
      "cell_type": "code",
      "execution_count": null,
      "metadata": {
        "id": "rmZoi3I39Jfi"
      },
      "outputs": [],
      "source": [
        "def extract_text_from_webpage(url):\n",
        "    response = requests.get(url)\n",
        "    soup = BeautifulSoup(response.text, 'html.parser')\n",
        "    text = ' '.join([p.get_text() for p in soup.find_all('p')])\n",
        "    return text"
      ]
    },
    {
      "cell_type": "code",
      "execution_count": null,
      "metadata": {
        "id": "byumBQw59S7M"
      },
      "outputs": [],
      "source": [
        "@app.route('/answer', methods=['POST'])\n",
        "def answer_question():\n",
        "    data = request.json\n",
        "    webpage_url = data.get('webpage_url')\n",
        "    question = data.get('question')\n",
        "\n",
        "    webpage_text = extract_text_from_webpage(webpage_url)\n",
        "\n",
        "    chain = Chain()\n",
        "    chain.append_text(webpage_text)\n",
        "    answer = chain.ask_question(question)\n",
        "\n",
        "    if answer:\n",
        "        return jsonify({'answer': answer})\n",
        "    else:\n",
        "        return jsonify({'answer': \"I don't know the answer\"})"
      ]
    },
    {
      "cell_type": "code",
      "execution_count": null,
      "metadata": {
        "colab": {
          "background_save": true,
          "base_uri": "https://localhost:8080/"
        },
        "id": "udgV-PKO9ZWy",
        "outputId": "df464063-ec18-4055-d571-5b5400889173"
      },
      "outputs": [
        {
          "name": "stdout",
          "output_type": "stream",
          "text": [
            " * Serving Flask app 'samrudh'\n",
            " * Debug mode: on\n"
          ]
        },
        {
          "name": "stderr",
          "output_type": "stream",
          "text": [
            "INFO:werkzeug:\u001b[31m\u001b[1mWARNING: This is a development server. Do not use it in a production deployment. Use a production WSGI server instead.\u001b[0m\n",
            " * Running on http://127.0.0.1:5000\n",
            "INFO:werkzeug:\u001b[33mPress CTRL+C to quit\u001b[0m\n",
            "INFO:werkzeug: * Restarting with stat\n"
          ]
        }
      ],
      "source": [
        "if __name__ == '__main__':\n",
        "    app.run(debug=True)\n"
      ]
    }
  ],
  "metadata": {
    "colab": {
      "provenance": []
    },
    "kernelspec": {
      "display_name": "Python 3",
      "name": "python3"
    },
    "language_info": {
      "name": "python"
    }
  },
  "nbformat": 4,
  "nbformat_minor": 0
}